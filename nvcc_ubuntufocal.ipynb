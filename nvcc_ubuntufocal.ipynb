{
 "cells": [
  {
   "cell_type": "markdown",
   "id": "5dda0b25",
   "metadata": {},
   "source": [
    "### Useful"
   ]
  },
  {
   "cell_type": "code",
   "execution_count": 1,
   "id": "61fc7bc0",
   "metadata": {},
   "outputs": [
    {
     "name": "stdout",
     "output_type": "stream",
     "text": [
      "Darwin Air-de-j.lan 20.2.0 Darwin Kernel Version 20.2.0: Wed Dec  2 20:39:59 PST 2020; root:xnu-7195.60.75~1/RELEASE_X86_64 x86_64\n",
      "Fri May  6 09:21:51 CEST 2022\n",
      "/Users/poderozita/z2022_1/REPOSITORY/NVCC\n"
     ]
    }
   ],
   "source": [
    "%%bash \n",
    "uname -a \n",
    "date\n",
    "pwd"
   ]
  },
  {
   "cell_type": "markdown",
   "id": "39071416",
   "metadata": {},
   "source": [
    "## Challenge "
   ]
  },
  {
   "cell_type": "code",
   "execution_count": 2,
   "id": "cb4b8e04",
   "metadata": {},
   "outputs": [
    {
     "name": "stdout",
     "output_type": "stream",
     "text": [
      "Overwriting smallest.cu\n"
     ]
    }
   ],
   "source": [
    "%%writefile smallest.cu \n",
    "#include <stdio.h>\n",
    "\n",
    "__global__\n",
    "void cuda_hello()\n",
    "{\n",
    "  printf(\">> [smallest] Hello from GPU!\\n\");\n",
    "}\n",
    "\n",
    "int main()\n",
    "{\n",
    "    printf(\">> [smallest] Hello from CPU!\\n\");   \n",
    "    cuda_hello<<<1,1>>>();\n",
    "    return 0;\n",
    "}"
   ]
  },
  {
   "cell_type": "code",
   "execution_count": 3,
   "id": "0b3f8204",
   "metadata": {},
   "outputs": [
    {
     "name": "stdout",
     "output_type": "stream",
     "text": [
      "Overwriting CMakeLists.txt\n"
     ]
    }
   ],
   "source": [
    "%%writefile CMakeLists.txt \n",
    "\n",
    "cmake_minimum_required(VERSION 3.8 FATAL_ERROR)\n",
    "project(hello LANGUAGES CXX CUDA)\n",
    "enable_language(CUDA)\n",
    "add_executable(smallest.x ../smallest.cu)\n",
    "\n",
    "## CMAKE_CUDA_ARCHITECTURES now detected for NVCC, empty CUDA_ARCHITECTURES not allowed.\n",
    "set_property(TARGET smallest.x PROPERTY CUDA_ARCHITECTURES OFF) \n",
    "\n",
    "enable_testing()\n",
    "add_test(NAME smallest COMMAND smallest.x) "
   ]
  },
  {
   "cell_type": "markdown",
   "id": "605f3023",
   "metadata": {},
   "source": [
    "## A solution "
   ]
  },
  {
   "cell_type": "code",
   "execution_count": 4,
   "id": "cf863367",
   "metadata": {},
   "outputs": [
    {
     "name": "stdout",
     "output_type": "stream",
     "text": [
      "Overwriting GET_NVCC.sh\n"
     ]
    }
   ],
   "source": [
    "%%writefile GET_NVCC.sh \n",
    "\n",
    "## https://docs.nvidia.com/cuda/cuda-installation-guide-linux/index.html\n",
    "SETUP_NVCC()\n",
    "{ \n",
    "  echo \"wget...\"\n",
    "  wget https://developer.download.nvidia.com/compute/cuda/redist/cuda_nvcc/linux-x86_64/cuda_nvcc-linux-x86_64-${RELEASE}-archive.tar.xz\n",
    "  \n",
    "  echo \"tar...\"\n",
    "  rm -rf cuda_nvcc-linux-x86_64-${RELEASE}-archive\n",
    "  tar -xf cuda_nvcc-linux-x86_64-${RELEASE}-archive.tar.xz \n",
    "}\n",
    "\n",
    "\n",
    "SETUP_CUDART()\n",
    "{ \n",
    "  echo \"wget...\"\n",
    "  wget https://developer.download.nvidia.com/compute/cuda/redist/cuda_cudart/linux-x86_64/cuda_cudart-linux-x86_64-${RELEASE}-archive.tar.xz\n",
    "  \n",
    "  echo \"tar...\"\n",
    "  rm -rf cuda_cudart-linux-x86_64-${RELEASE}-archive\n",
    "  tar -xf cuda_cudart-linux-x86_64-${RELEASE}-archive.tar.xz\n",
    "}\n",
    "\n",
    "\n",
    "INIT()\n",
    "{\n",
    "  ## 1. SETUP \n",
    "  g++ --version   ## g++ (Ubuntu 9.4.0-1ubuntu1~20.04.1) 9.4.0\n",
    "  cmake --version ## cmake version 3.16.3\n",
    "\n",
    "  NVCC_PATH=${PWD}/cuda_nvcc-linux-x86_64-${RELEASE}-archive\n",
    "  CUDART_PATH=${PWD}/cuda_cudart-linux-x86_64-${RELEASE}-archive\n",
    "\n",
    "  NVCC=$NVCC_PATH/bin/nvcc\n",
    "  $NVCC --version\n",
    "\n",
    "  rm -rf BUILD\n",
    "  mkdir BUILD \n",
    "  cd BUILD \n",
    "\n",
    "  ## 2. COMPILATION\n",
    "  ## 2.A. SIMPLEST  \n",
    "  $NVCC -o smallest.x ../smallest.cu -I$CUDART_PATH/include -L$CUDART_PATH/lib\n",
    "  ./smallest.x \n",
    "  rm smallest.x  \n",
    "\n",
    "  ## 2.B. EASIEST  \n",
    "  export CPLUS_INCLUDE_PATH=$CPLUS_INCLUDE_PATH:$CUDART_PATH/include \n",
    "  export LIBRARY_PATH=$LIBRARY_PATH:$CUDART_PATH/lib \n",
    "  export CUDACXX=$NVCC \n",
    "\n",
    "  $CUDACXX  -o smallest.x ../smallest.cu  \n",
    "  ./smallest.x \n",
    "  rm smallest.x\n",
    "    \n",
    "  ## 2.C. FANCIEST (https://www.collinsdictionary.com/dictionary/english/fanciest)\n",
    "  rm -rf CMakeCache.txt CMakeFiles  \n",
    "  cmake ..\n",
    "  make\n",
    "  ctest\n",
    "}\n",
    "\n",
    "\n",
    "RELEASE=11.5.50 \n",
    "SETUP_NVCC\n",
    "SETUP_CUDART\n",
    "INIT\n"
   ]
  },
  {
   "cell_type": "code",
   "execution_count": 5,
   "id": "110a838c",
   "metadata": {},
   "outputs": [],
   "source": [
    "!bash GET_NVCC.sh # To be runned on 'mybinder' "
   ]
  },
  {
   "cell_type": "markdown",
   "id": "f9a092b7",
   "metadata": {},
   "source": [
    "## Containerization"
   ]
  },
  {
   "cell_type": "code",
   "execution_count": 6,
   "id": "7aaac5cb",
   "metadata": {},
   "outputs": [
    {
     "name": "stdout",
     "output_type": "stream",
     "text": [
      "Overwriting Dockerfile.ci\n"
     ]
    }
   ],
   "source": [
    "%%writefile Dockerfile.ci \n",
    "\n",
    "FROM ubuntu:focal \n",
    "RUN apt-get --yes -qq update \n",
    "RUN DEBIAN_FRONTEND=noninteractive TZ=Etc/UTC apt-get -y install tzdata\n",
    "RUN apt-get --yes -qq update \n",
    "\n",
    "RUN apt-get --yes -qq install wget xz-utils\n",
    "RUN apt-get --yes -qq install build-essential  \n",
    "RUN apt-get --yes -qq install gcc g++  \n",
    "RUN apt-get --yes -qq install cmake \n",
    "RUN apt-get --yes -qq install cmake-curses-gui ## ccmake \n",
    "RUN apt-get --yes -qq clean\n",
    "RUN rm -rf /var/lib/apt/lists/*"
   ]
  },
  {
   "cell_type": "code",
   "execution_count": 7,
   "id": "97b950b8",
   "metadata": {},
   "outputs": [
    {
     "name": "stdout",
     "output_type": "stream",
     "text": [
      "Overwriting workflow.sh\n"
     ]
    }
   ],
   "source": [
    "%%writefile workflow.sh \n",
    "\n",
    "\n",
    "DOCKER_BUILD()\n",
    "{\n",
    "  docker build . \\\n",
    "    --file Dockerfile.ci \\\n",
    "    --tag $IMAGE_NAME  \\\n",
    "    > /dev/null \n",
    "}\n",
    "\n",
    "\n",
    "DOCKER_IMAGES()\n",
    "{\n",
    "  IMAGE_ID=$(docker images --filter=reference=$IMAGE_NAME --format \"{{.ID}}\") \n",
    "  echo \"IMAGE_ID:\", $IMAGE_ID    \n",
    "}\n",
    "\n",
    "\n",
    "DOCKER_RUN()\n",
    "{\n",
    "  docker run \\\n",
    "    --rm \\\n",
    "    --name ${CONTAINER_NAME} \\\n",
    "    --volume ${PWD}:/home \\\n",
    "    --workdir /home \\\n",
    "    -i ${IMAGE_NAME} \\\n",
    "    ${TOBEEXECUTED}\n",
    "}\n",
    "\n",
    "\n",
    "CONTAINER_NAME=nvcc_container\n",
    "IMAGE_NAME=nvcc_image \n",
    "\n",
    "DOCKER_BUILD \n",
    "\n",
    "TOBEEXECUTED=\"ls -la\"\n",
    "DOCKER_RUN\n",
    "\n",
    "TOBEEXECUTED=\"pwd\"\n",
    "DOCKER_RUN\n",
    "\n",
    "TOBEEXECUTED=\"bash GET_NVCC.sh\"\n",
    "DOCKER_RUN\n",
    "\n",
    "#\n",
    "# docker run --rm --name nvcc_container --volume ${PWD}:/home --workdir /home -i nvcc_image bash GET_NVCC.sh\n",
    "# "
   ]
  },
  {
   "cell_type": "code",
   "execution_count": 8,
   "id": "9b27f08f",
   "metadata": {},
   "outputs": [
    {
     "name": "stdout",
     "output_type": "stream",
     "text": [
      "\u001b[34m => [internal] load build definition from Dockerfile.ci                    0.0s\n",
      "\u001b[0m\u001b[34m => => transferring dockerfile: 487B                                       0.0s\n",
      "\u001b[0m\u001b[34m => [internal] load .dockerignore                                          0.0s\n",
      "\u001b[0m\u001b[34m => => transferring context: 2B                                            0.0s\n",
      "\u001b[0m\u001b[34m => [internal] load metadata for docker.io/library/ubuntu:focal            1.5s\n",
      "\u001b[0m\u001b[34m => [auth] library/ubuntu:pull token for registry-1.docker.io              0.0s\n",
      "\u001b[0m\u001b[34m => [ 1/11] FROM docker.io/library/ubuntu:focal@sha256:47f14534bda344d9fe  0.0s\n",
      "\u001b[0m\u001b[34m => CACHED [ 2/11] RUN apt-get --yes -qq update                            0.0s\n",
      "\u001b[0m\u001b[34m => CACHED [ 3/11] RUN DEBIAN_FRONTEND=noninteractive TZ=Etc/UTC apt-get   0.0s\n",
      "\u001b[0m\u001b[34m => CACHED [ 4/11] RUN apt-get --yes -qq update                            0.0s\n",
      "\u001b[0m\u001b[34m => CACHED [ 5/11] RUN apt-get --yes -qq install wget xz-utils             0.0s\n",
      "\u001b[0m\u001b[34m => CACHED [ 6/11] RUN apt-get --yes -qq install build-essential           0.0s\n",
      "\u001b[0m\u001b[34m => CACHED [ 7/11] RUN apt-get --yes -qq install gcc g++                   0.0s\n",
      "\u001b[0m\u001b[34m => CACHED [ 8/11] RUN apt-get --yes -qq install cmake                     0.0s\n",
      "\u001b[0m\u001b[34m => CACHED [ 9/11] RUN apt-get --yes -qq install cmake-curses-gui ## ccma  0.0s\n",
      "\u001b[0m\u001b[34m => CACHED [10/11] RUN apt-get --yes -qq clean                             0.0s\n",
      "\u001b[0m\u001b[34m => CACHED [11/11] RUN rm -rf /var/lib/apt/lists/*                         0.0s\n",
      "\u001b[0m\u001b[34m => exporting to image                                                     0.1s\n",
      "\u001b[0m\u001b[34m => => exporting layers                                                    0.0s\n",
      "\u001b[0m\u001b[34m => => writing image sha256:462a1c17192f48a5b0e057e17bf732f8c0093b385d422  0.0s\n",
      "\u001b[0m\u001b[34m => => naming to docker.io/library/nvcc_image                              0.0s\n"
     ]
    },
    {
     "name": "stdout",
     "output_type": "stream",
     "text": [
      "\u001b[0m\u001b[?25h\n",
      "Use 'docker scan' to run Snyk tests against images to find vulnerabilities and learn how to fix them\n",
      "total 147896\n",
      "drwxr-xr-x  9 root  root      288 May  6 06:23 BUILD\n",
      "-rw-r--r--  1 root  root      364 May  6 07:21 CMakeLists.txt\n",
      "-rw-r--r--  1 root  root      440 May  6 07:21 Dockerfile.ci\n",
      "-rw-r--r--  1 root  root     1637 May  6 07:21 GET_NVCC.sh\n",
      "-rw-r--r--  1 root  root     1456 May  5 08:33 cmake_install.cmake\n",
      "drwxr-xr-x  6 25503 tape      192 Sep 14  2021 cuda_cudart-linux-x86_64-11.5.50-archive\n",
      "-rw-r--r--  1 root  root   835692 Oct 16  2021 cuda_cudart-linux-x86_64-11.5.50-archive.tar.xz\n",
      "drwxr-xr-x  7 25503 tape      224 Sep 14  2021 cuda_nvcc-linux-x86_64-11.5.50-archive\n",
      "-rw-r--r--  1 root  root 36310316 Oct 16  2021 cuda_nvcc-linux-x86_64-11.5.50-archive.tar.xz\n",
      "-rw-r--r--  1 root  root     8200 May  6 07:21 nvcc_ubuntufocal.ipynb\n",
      "-rw-r--r--  1 root  root      205 May  6 07:21 smallest.cu\n",
      "-rw-r--r--  1 root  root      707 May  6 07:21 workflow.sh\n",
      "/home\n",
      "wget...\n",
      "--2022-05-06 07:21:58--  https://developer.download.nvidia.com/compute/cuda/redist/cuda_nvcc/linux-x86_64/cuda_nvcc-linux-x86_64-11.5.50-archive.tar.xz\n",
      "Resolving developer.download.nvidia.com (developer.download.nvidia.com)... 152.199.20.126\n",
      "Connecting to developer.download.nvidia.com (developer.download.nvidia.com)|152.199.20.126|:443... connected.\n",
      "HTTP request sent, awaiting response... 200 OK\n",
      "Length: 36310316 (35M) [application/octet-stream]\n",
      "Saving to: 'cuda_nvcc-linux-x86_64-11.5.50-archive.tar.xz.4'\n",
      "\n",
      "     0K .......... .......... .......... .......... ..........  0%  696K 51s\n"
     ]
    },
    {
     "name": "stdout",
     "output_type": "stream",
     "text": [
      " 30250K .......... .......... .......... .......... .......... 85% 1.34M 5s\n",
      "tar...\n",
      "2022-05-06 07:22:33 (1021 KB/s) - 'cuda_nvcc-linux-x86_64-11.5.50-archive.tar.xz.4' saved [36310316/36310316]\n",
      "\n",
      "wget...\n",
      "--2022-05-06 07:23:23--  https://developer.download.nvidia.com/compute/cuda/redist/cuda_cudart/linux-x86_64/cuda_cudart-linux-x86_64-11.5.50-archive.tar.xz\n"
     ]
    },
    {
     "name": "stdout",
     "output_type": "stream",
     "text": [
      "Resolving developer.download.nvidia.com (developer.download.nvidia.com)... 152.199.20.126\n",
      "Connecting to developer.download.nvidia.com (developer.download.nvidia.com)|152.199.20.126|:443... connected.\n",
      "HTTP request sent, awaiting response... 200 OK\n",
      "Length: 835692 (816K) [application/octet-stream]\n",
      "Saving to: 'cuda_cudart-linux-x86_64-11.5.50-archive.tar.xz.5'\n",
      "... \n",
      "2022-05-06 07:23:24 (854 KB/s) - 'cuda_cudart-linux-x86_64-11.5.50-archive.tar.xz.5' saved [835692/835692]\n",
      "\n",
      "tar...\n",
      "g++ (Ubuntu 9.4.0-1ubuntu1~20.04.1) 9.4.0\n",
      "Copyright (C) 2019 Free Software Foundation, Inc.\n",
      "This is free software; see the source for copying conditions.  There is NO\n",
      "warranty; not even for MERCHANTABILITY or FITNESS FOR A PARTICULAR PURPOSE.\n",
      "\n",
      "cmake version 3.16.3\n",
      "\n",
      "CMake suite maintained and supported by Kitware (kitware.com/cmake).\n",
      "nvcc: NVIDIA (R) Cuda compiler driver\n",
      "Copyright (c) 2005-2021 NVIDIA Corporation\n",
      "Built on Mon_Sep_13_19:13:29_PDT_2021\n",
      "Cuda compilation tools, release 11.5, V11.5.50\n",
      "Build cuda_11.5.r11.5/compiler.30411180_0\n",
      ">> [smallest] Hello from CPU!\n",
      ">> [smallest] Hello from CPU!\n",
      "-- The CXX compiler identification is GNU 9.4.0\n",
      "-- The CUDA compiler identification is NVIDIA 11.5.50\n",
      "-- Check for working CXX compiler: /usr/bin/c++\n",
      "-- Check for working CXX compiler: /usr/bin/c++ -- works\n",
      "-- Detecting CXX compiler ABI info\n",
      "-- Detecting CXX compiler ABI info - done\n",
      "-- Detecting CXX compile features\n",
      "-- Detecting CXX compile features - done\n",
      "-- Check for working CUDA compiler: /home/cuda_nvcc-linux-x86_64-11.5.50-archive/bin/nvcc\n",
      "-- Check for working CUDA compiler: /home/cuda_nvcc-linux-x86_64-11.5.50-archive/bin/nvcc -- works\n",
      "-- Detecting CUDA compiler ABI info\n",
      "-- Detecting CUDA compiler ABI info - done\n",
      "-- Configuring done\n",
      "-- Generating done\n",
      "-- Build files have been written to: /home/BUILD\n",
      "Scanning dependencies of target smallest.x\n",
      "[ 50%] Building CUDA object CMakeFiles/smallest.x.dir/smallest.cu.o\n",
      "[100%] Linking CUDA executable smallest.x\n",
      "[100%] Built target smallest.x\n",
      "Test project /home/BUILD\n",
      "    Start 1: smallest\n",
      "1/1 Test #1: smallest .........................   Passed    0.03 sec\n",
      "\n",
      "100% tests passed, 0 tests failed out of 1\n",
      "\n",
      "Total Test time (real) =   0.10 sec\n"
     ]
    }
   ],
   "source": [
    "#!bash workflow.sh # To be runned 'localy' (SEE '.github/workflows/dockerci.yml')  "
   ]
  },
  {
   "cell_type": "markdown",
   "id": "eda7c483",
   "metadata": {},
   "source": [
    "## Done!!"
   ]
  },
  {
   "cell_type": "raw",
   "id": "dfd7fc2d",
   "metadata": {},
   "source": []
  }
 ],
 "metadata": {
  "kernelspec": {
   "display_name": "Python 3 (ipykernel)",
   "language": "python",
   "name": "python3"
  },
  "language_info": {
   "codemirror_mode": {
    "name": "ipython",
    "version": 3
   },
   "file_extension": ".py",
   "mimetype": "text/x-python",
   "name": "python",
   "nbconvert_exporter": "python",
   "pygments_lexer": "ipython3",
   "version": "3.9.5"
  }
 },
 "nbformat": 4,
 "nbformat_minor": 5
}
